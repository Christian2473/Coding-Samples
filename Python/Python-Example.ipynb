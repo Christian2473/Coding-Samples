{
 "cells": [
  {
   "cell_type": "markdown",
   "metadata": {},
   "source": [
    "# Preface:\n",
    "# Please read the outputs of the cells for answers that are calculations. \n",
    "# You must be connected to the internet to use yfinance"
   ]
  },
  {
   "cell_type": "markdown",
   "metadata": {},
   "source": [
    "# 1. Historical Analysis of Sector ETFs:\n",
    "## a. Download historical price data from January 1st 2010 for the following ETFs on yahoo\n",
    "## finance or another site of your choice. Clean/check the data for splits and other\n",
    "## anomalies."
   ]
  },
  {
   "cell_type": "code",
   "execution_count": 1,
   "metadata": {},
   "outputs": [],
   "source": [
    "import datetime as dt\n",
    "import pandas as pd\n",
    "import numpy as np\n",
    "import yfinance as yf\n",
    "import numpy as np\n",
    "import matplotlib.pyplot as plt\n",
    "import scipy as sci\n",
    "import sklearn as skl"
   ]
  },
  {
   "cell_type": "code",
   "execution_count": 2,
   "metadata": {},
   "outputs": [],
   "source": [
    "end_date = dt.datetime.today()\n",
    "start_date = dt.datetime(2010, 1, 1)\n",
    "\n",
    "tickers = {\n",
    "\"SPY\" : yf.Ticker(\"SPY\").history(start=start_date, end=end_date).dropna(),\n",
    "\"XLB\" : yf.Ticker(\"XLB\").history(start= start_date, end=end_date).dropna(),\n",
    "\"XLE\" : yf.Ticker(\"XLE\").history(start= start_date, end=end_date).dropna(),\n",
    "\"XLF\" : yf.Ticker(\"XLF\").history(start= start_date, end=end_date).dropna(),\n",
    "\"XLI\" : yf.Ticker(\"XLI\").history(start= start_date, end=end_date).dropna(),\n",
    "\"XLK\" : yf.Ticker(\"XLK\").history(start= start_date, end=end_date).dropna(),\n",
    "\"XLP\" : yf.Ticker(\"XLP\").history(start= start_date, end=end_date).dropna(),\n",
    "\"XLU\" : yf.Ticker(\"XLU\").history(start= start_date, end=end_date).dropna(),\n",
    "\"XLY\" : yf.Ticker(\"XLY\").history(start= start_date, end=end_date).dropna()\n",
    "}"
   ]
  },
  {
   "cell_type": "markdown",
   "metadata": {},
   "source": [
    "## B. Calculate the annualized return and standard deviation of each ETF"
   ]
  },
  {
   "cell_type": "code",
   "execution_count": 3,
   "metadata": {},
   "outputs": [
    {
     "name": "stdout",
     "output_type": "stream",
     "text": [
      "5432\n",
      "The annualized return for SPY is 0.09310716722260493 \n",
      " and the standard deviation is 130.4105791563456\n",
      "The annualized return for XLB is 0.06280046266244854 \n",
      " and the standard deviation is 20.30179797301033\n",
      "The annualized return for XLE is 0.04624640914595424 \n",
      " and the standard deviation is 15.603000506591174\n",
      "The annualized return for XLF is 0.08197975435240323 \n",
      " and the standard deviation is 10.031375115307158\n",
      "The annualized return for XLI is 0.0907070438390074 \n",
      " and the standard deviation is 29.1906445314536\n",
      "The annualized return for XLK is 0.12271214505573136 \n",
      " and the standard deviation is 58.1478878507995\n",
      "The annualized return for XLP is 0.07209223254002084 \n",
      " and the standard deviation is 17.887464738566308\n",
      "The annualized return for XLU is 0.07009133568589654 \n",
      " and the standard deviation is 16.592462016645243\n",
      "The annualized return for XLY is 0.1052235307703755 \n",
      " and the standard deviation is 51.771496052476394\n"
     ]
    },
    {
     "name": "stderr",
     "output_type": "stream",
     "text": [
      "/var/folders/49/1jq9sd950fg6397s7sm972380000gn/T/ipykernel_79424/2174164327.py:13: FutureWarning: Series.__getitem__ treating keys as positions is deprecated. In a future version, integer keys will always be treated as labels (consistent with DataFrame behavior). To access a value by position, use `ser.iloc[pos]`\n",
      "  cum_return = tickers[etf][\"Close\"][-1]/tickers[etf][\"Close\"][0] - 1\n"
     ]
    }
   ],
   "source": [
    "# Note that there is no data for 01/01/2010\n",
    "\n",
    "first_day = tickers[\"SPY\"].index[0]\n",
    "last_day = tickers[\"SPY\"].index[-1]\n",
    "\n",
    "delta_t = (last_day - first_day).days\n",
    "\n",
    "print(delta_t)\n",
    "annualized_returns = {}\n",
    "standard_deviations = {}\n",
    "\n",
    "for etf in tickers:\n",
    "    cum_return = tickers[etf][\"Close\"][-1]/tickers[etf][\"Close\"][0] - 1\n",
    "    annualized_returns[etf] = (cum_return + 1)**(252/delta_t)-1\n",
    "\n",
    "    # standard deviation\n",
    "    standard_deviations[etf] = tickers[etf][\"Close\"].std()\n",
    "\n",
    "    print(f\"The annualized return for {etf} is {annualized_returns[etf]} \\n and the standard deviation is {standard_deviations[etf]}\")\n"
   ]
  },
  {
   "cell_type": "markdown",
   "metadata": {},
   "source": [
    "## C. Calculate the covariance matrix of daily and monthly returns. Comment on the differences in correlations at different frequencies"
   ]
  },
  {
   "cell_type": "code",
   "execution_count": 4,
   "metadata": {},
   "outputs": [
    {
     "data": {
      "text/plain": [
       "{'SPY':                 weekly_returns  daily_returns\n",
       " weekly_returns        0.000503       0.000102\n",
       " daily_returns         0.000102       0.000116,\n",
       " 'XLB':                 weekly_returns  daily_returns\n",
       " weekly_returns        0.000825       0.000162\n",
       " daily_returns         0.000162       0.000173,\n",
       " 'XLE':                 weekly_returns  daily_returns\n",
       " weekly_returns        0.001467       0.000293\n",
       " daily_returns         0.000293       0.000300,\n",
       " 'XLF':                 weekly_returns  daily_returns\n",
       " weekly_returns        0.000855       0.000173\n",
       " daily_returns         0.000173       0.000195,\n",
       " 'XLI':                 weekly_returns  daily_returns\n",
       " weekly_returns        0.000713       0.000137\n",
       " daily_returns         0.000137       0.000151,\n",
       " 'XLK':                 weekly_returns  daily_returns\n",
       " weekly_returns        0.000746       0.000154\n",
       " daily_returns         0.000154       0.000180,\n",
       " 'XLP':                 weekly_returns  daily_returns\n",
       " weekly_returns        0.000305       0.000061\n",
       " daily_returns         0.000061       0.000075,\n",
       " 'XLU':                 weekly_returns  daily_returns\n",
       " weekly_returns        0.000540       0.000105\n",
       " daily_returns         0.000105       0.000123,\n",
       " 'XLY':                 weekly_returns  daily_returns\n",
       " weekly_returns        0.000759       0.000151\n",
       " daily_returns         0.000151       0.000160}"
      ]
     },
     "execution_count": 4,
     "metadata": {},
     "output_type": "execute_result"
    }
   ],
   "source": [
    "daily_returns = {}\n",
    "weekly_returns = {}\n",
    "\n",
    "# setting up the daily/weekly returns\n",
    "for etf in tickers:\n",
    "    weekly_returns[etf] = (tickers[etf][\"Close\"]/tickers[etf][\"Close\"].shift(5) - 1).dropna()\n",
    "    #I use 5 instead of 7 because there are 5 days in the trading week\n",
    "    daily_returns[etf] = (tickers[etf][\"Close\"]/tickers[etf][\"Close\"].shift(1) - 1)\n",
    "\n",
    "length = len(weekly_returns[etf])\n",
    "covariances = {}\n",
    "for etf in tickers:\n",
    "    covariances[etf] = pd.DataFrame({\"weekly_returns\": weekly_returns[etf], \"daily_returns\" : daily_returns[etf][-length:]}).cov()\n",
    "\n",
    "covariances"
   ]
  },
  {
   "cell_type": "markdown",
   "metadata": {},
   "source": [
    "<div class=\"alert alert-block alert-success\">\n",
    "<b>Response:</b> Looking at the different covariance matrices, it seems that the covariances of the weekly returns and daily returns are very small,  \n",
    "showing that their correlations are also very small given the small variances.\n",
    "</div>"
   ]
  },
  {
   "cell_type": "markdown",
   "metadata": {},
   "source": [
    "## d. Calculate a rolling 90-day correlation of each sector ETF with the S&P index. Do the\n",
    "## correlations appear to be stable over time? What seems to cause them to vary the\n",
    "## most?"
   ]
  },
  {
   "cell_type": "code",
   "execution_count": 5,
   "metadata": {},
   "outputs": [
    {
     "data": {
      "text/plain": [
       "{'SPY': Date\n",
       " 2010-05-13 00:00:00-04:00    1.0\n",
       " 2010-05-14 00:00:00-04:00    1.0\n",
       " 2010-05-17 00:00:00-04:00    1.0\n",
       " 2010-05-18 00:00:00-04:00    1.0\n",
       " 2010-05-19 00:00:00-04:00    1.0\n",
       "                             ... \n",
       " 2024-11-12 00:00:00-05:00    1.0\n",
       " 2024-11-13 00:00:00-05:00    1.0\n",
       " 2024-11-14 00:00:00-05:00    1.0\n",
       " 2024-11-15 00:00:00-05:00    1.0\n",
       " 2024-11-18 00:00:00-05:00    1.0\n",
       " Name: Close, Length: 3655, dtype: float64,\n",
       " 'XLB': Date\n",
       " 2010-05-13 00:00:00-04:00    0.878382\n",
       " 2010-05-14 00:00:00-04:00    0.881646\n",
       " 2010-05-17 00:00:00-04:00    0.887455\n",
       " 2010-05-18 00:00:00-04:00    0.892327\n",
       " 2010-05-19 00:00:00-04:00    0.892507\n",
       "                                ...   \n",
       " 2024-11-12 00:00:00-05:00    0.713351\n",
       " 2024-11-13 00:00:00-05:00    0.718780\n",
       " 2024-11-14 00:00:00-05:00    0.717439\n",
       " 2024-11-15 00:00:00-05:00    0.747763\n",
       " 2024-11-18 00:00:00-05:00    0.746762\n",
       " Name: Close, Length: 3655, dtype: float64,\n",
       " 'XLE': Date\n",
       " 2010-05-13 00:00:00-04:00    0.901772\n",
       " 2010-05-14 00:00:00-04:00    0.904519\n",
       " 2010-05-17 00:00:00-04:00    0.905332\n",
       " 2010-05-18 00:00:00-04:00    0.904298\n",
       " 2010-05-19 00:00:00-04:00    0.904441\n",
       "                                ...   \n",
       " 2024-11-12 00:00:00-05:00    0.367866\n",
       " 2024-11-13 00:00:00-05:00    0.368243\n",
       " 2024-11-14 00:00:00-05:00    0.362236\n",
       " 2024-11-15 00:00:00-05:00    0.372433\n",
       " 2024-11-18 00:00:00-05:00    0.373987\n",
       " Name: Close, Length: 3655, dtype: float64,\n",
       " 'XLF': Date\n",
       " 2010-05-13 00:00:00-04:00    0.915985\n",
       " 2010-05-14 00:00:00-04:00    0.922427\n",
       " 2010-05-17 00:00:00-04:00    0.922432\n",
       " 2010-05-18 00:00:00-04:00    0.926775\n",
       " 2010-05-19 00:00:00-04:00    0.927358\n",
       "                                ...   \n",
       " 2024-11-12 00:00:00-05:00    0.659694\n",
       " 2024-11-13 00:00:00-05:00    0.660549\n",
       " 2024-11-14 00:00:00-05:00    0.663078\n",
       " 2024-11-15 00:00:00-05:00    0.661936\n",
       " 2024-11-18 00:00:00-05:00    0.662360\n",
       " Name: Close, Length: 3655, dtype: float64,\n",
       " 'XLI': Date\n",
       " 2010-05-13 00:00:00-04:00    0.952347\n",
       " 2010-05-14 00:00:00-04:00    0.953766\n",
       " 2010-05-17 00:00:00-04:00    0.953265\n",
       " 2010-05-18 00:00:00-04:00    0.954102\n",
       " 2010-05-19 00:00:00-04:00    0.956419\n",
       "                                ...   \n",
       " 2024-11-12 00:00:00-05:00    0.818918\n",
       " 2024-11-13 00:00:00-05:00    0.820670\n",
       " 2024-11-14 00:00:00-05:00    0.817406\n",
       " 2024-11-15 00:00:00-05:00    0.838323\n",
       " 2024-11-18 00:00:00-05:00    0.835968\n",
       " Name: Close, Length: 3655, dtype: float64,\n",
       " 'XLK': Date\n",
       " 2010-05-13 00:00:00-04:00    0.932848\n",
       " 2010-05-14 00:00:00-04:00    0.935162\n",
       " 2010-05-17 00:00:00-04:00    0.939043\n",
       " 2010-05-18 00:00:00-04:00    0.942468\n",
       " 2010-05-19 00:00:00-04:00    0.942814\n",
       "                                ...   \n",
       " 2024-11-12 00:00:00-05:00    0.923083\n",
       " 2024-11-13 00:00:00-05:00    0.922967\n",
       " 2024-11-14 00:00:00-05:00    0.920884\n",
       " 2024-11-15 00:00:00-05:00    0.922481\n",
       " 2024-11-18 00:00:00-05:00    0.922147\n",
       " Name: Close, Length: 3655, dtype: float64,\n",
       " 'XLP': Date\n",
       " 2010-05-13 00:00:00-04:00    0.874786\n",
       " 2010-05-14 00:00:00-04:00    0.877789\n",
       " 2010-05-17 00:00:00-04:00    0.868674\n",
       " 2010-05-18 00:00:00-04:00    0.870493\n",
       " 2010-05-19 00:00:00-04:00    0.874263\n",
       "                                ...   \n",
       " 2024-11-12 00:00:00-05:00    0.210947\n",
       " 2024-11-13 00:00:00-05:00    0.210955\n",
       " 2024-11-14 00:00:00-05:00    0.209063\n",
       " 2024-11-15 00:00:00-05:00    0.221917\n",
       " 2024-11-18 00:00:00-05:00    0.221409\n",
       " Name: Close, Length: 3655, dtype: float64,\n",
       " 'XLU': Date\n",
       " 2010-05-13 00:00:00-04:00    0.835737\n",
       " 2010-05-14 00:00:00-04:00    0.845681\n",
       " 2010-05-17 00:00:00-04:00    0.847225\n",
       " 2010-05-18 00:00:00-04:00    0.852587\n",
       " 2010-05-19 00:00:00-04:00    0.852770\n",
       "                                ...   \n",
       " 2024-11-12 00:00:00-05:00    0.137451\n",
       " 2024-11-13 00:00:00-05:00    0.137518\n",
       " 2024-11-14 00:00:00-05:00    0.133656\n",
       " 2024-11-15 00:00:00-05:00    0.130483\n",
       " 2024-11-18 00:00:00-05:00    0.129487\n",
       " Name: Close, Length: 3655, dtype: float64,\n",
       " 'XLY': Date\n",
       " 2010-05-13 00:00:00-04:00    0.936412\n",
       " 2010-05-14 00:00:00-04:00    0.937713\n",
       " 2010-05-17 00:00:00-04:00    0.936594\n",
       " 2010-05-18 00:00:00-04:00    0.937428\n",
       " 2010-05-19 00:00:00-04:00    0.938451\n",
       "                                ...   \n",
       " 2024-11-12 00:00:00-05:00    0.864643\n",
       " 2024-11-13 00:00:00-05:00    0.863297\n",
       " 2024-11-14 00:00:00-05:00    0.864781\n",
       " 2024-11-15 00:00:00-05:00    0.862345\n",
       " 2024-11-18 00:00:00-05:00    0.861975\n",
       " Name: Close, Length: 3655, dtype: float64}"
      ]
     },
     "execution_count": 5,
     "metadata": {},
     "output_type": "execute_result"
    }
   ],
   "source": [
    "rolling_correlations = {}\n",
    "\n",
    "for etf in tickers:\n",
    "    rolling_correlations[etf] = (daily_returns[etf].rolling(90).corr(daily_returns[\"SPY\"])).dropna()\n",
    "\n",
    "rolling_correlations"
   ]
  },
  {
   "cell_type": "markdown",
   "metadata": {},
   "source": [
    "<div class=\"alert alert-block alert-success\">\n",
    "<b>Response:</b> In almost all of the indices, the correlations were a lot higher in 2010 than they are in the present day. Time might play a factor in the correlations\n",
    "</div>"
   ]
  },
  {
   "cell_type": "markdown",
   "metadata": {},
   "source": [
    "## e. Consider a single factor CAPM model where returns are composed of the market return\n",
    "## and an idiosyncratic component:\n",
    "## $ r_{i,t} = \\beta r_{\\text{mkt}, i} + \\epsilon_{i,t}$\n",
    "\n",
    "## For each sector ETF, compute it’s $\\beta$ to the market using the above model. This will\n",
    "## require computing a linear regression on stock returns. Compute the $\\beta$ for the entire\n",
    "## historical period and also compute rolling 90-day $\\beta$’s. Are the $\\beta$’s that you calculated\n",
    "## consistent over the entire period? How do they compare to the rolling correlations?"
   ]
  },
  {
   "cell_type": "code",
   "execution_count": 6,
   "metadata": {},
   "outputs": [
    {
     "name": "stdout",
     "output_type": "stream",
     "text": [
      "Total historical Betas:\n"
     ]
    },
    {
     "data": {
      "text/plain": [
       "{'SPY': 0.9999999999999999,\n",
       " 'XLB': 0.7079182225280014,\n",
       " 'XLE': 0.4264107302848067,\n",
       " 'XLF': 0.6720215845014904,\n",
       " 'XLI': 0.7970714998298445,\n",
       " 'XLK': 0.7402227218122699,\n",
       " 'XLP': 0.9503367251451592,\n",
       " 'XLU': 0.578270300515202,\n",
       " 'XLY': 0.7751596814085768}"
      ]
     },
     "execution_count": 6,
     "metadata": {},
     "output_type": "execute_result"
    }
   ],
   "source": [
    "total_betas = {}\n",
    "rolling_betas_90_day = {}\n",
    "\n",
    "def calculate_beta(x, y):\n",
    "    r = x.corr(y)\n",
    "    s_x = x.std()\n",
    "    s_y = y.std()\n",
    "    return r*s_y/s_x\n",
    "\n",
    "for etf in tickers:\n",
    "    # Calculating beta for the total historical period\n",
    "    daily_return = daily_returns[etf]\n",
    "    daily_return_SPY = daily_returns[\"SPY\"]\n",
    "\n",
    "    total_betas[etf] = calculate_beta(daily_return, daily_return_SPY)\n",
    "\n",
    "    # Calculating rolling betas\n",
    "    r_roll  = rolling_correlations[etf]\n",
    "    s_x_rolling = daily_return.rolling(90).std().dropna()\n",
    "    s_y_rolling = daily_return_SPY.rolling(90).std().dropna()\n",
    "    rolling_betas_90_day[etf] = r_roll * s_y_rolling/s_x_rolling\n",
    "\n",
    "print(\"Total historical Betas:\")\n",
    "total_betas\n"
   ]
  },
  {
   "cell_type": "code",
   "execution_count": 7,
   "metadata": {},
   "outputs": [
    {
     "name": "stdout",
     "output_type": "stream",
     "text": [
      "90 day rolling betas:\n"
     ]
    },
    {
     "data": {
      "text/plain": [
       "{'SPY': Date\n",
       " 2010-05-13 00:00:00-04:00    1.0\n",
       " 2010-05-14 00:00:00-04:00    1.0\n",
       " 2010-05-17 00:00:00-04:00    1.0\n",
       " 2010-05-18 00:00:00-04:00    1.0\n",
       " 2010-05-19 00:00:00-04:00    1.0\n",
       "                             ... \n",
       " 2024-11-12 00:00:00-05:00    1.0\n",
       " 2024-11-13 00:00:00-05:00    1.0\n",
       " 2024-11-14 00:00:00-05:00    1.0\n",
       " 2024-11-15 00:00:00-05:00    1.0\n",
       " 2024-11-18 00:00:00-05:00    1.0\n",
       " Name: Close, Length: 3655, dtype: float64,\n",
       " 'XLB': Date\n",
       " 2010-05-13 00:00:00-04:00    0.626109\n",
       " 2010-05-14 00:00:00-04:00    0.629837\n",
       " 2010-05-17 00:00:00-04:00    0.638611\n",
       " 2010-05-18 00:00:00-04:00    0.643753\n",
       " 2010-05-19 00:00:00-04:00    0.647773\n",
       "                                ...   \n",
       " 2024-11-12 00:00:00-05:00    0.724403\n",
       " 2024-11-13 00:00:00-05:00    0.735438\n",
       " 2024-11-14 00:00:00-05:00    0.736744\n",
       " 2024-11-15 00:00:00-05:00    0.778768\n",
       " 2024-11-18 00:00:00-05:00    0.778350\n",
       " Name: Close, Length: 3655, dtype: float64,\n",
       " 'XLE': Date\n",
       " 2010-05-13 00:00:00-04:00    0.708560\n",
       " 2010-05-14 00:00:00-04:00    0.715169\n",
       " 2010-05-17 00:00:00-04:00    0.717063\n",
       " 2010-05-18 00:00:00-04:00    0.720643\n",
       " 2010-05-19 00:00:00-04:00    0.720224\n",
       "                                ...   \n",
       " 2024-11-12 00:00:00-05:00    0.275349\n",
       " 2024-11-13 00:00:00-05:00    0.276050\n",
       " 2024-11-14 00:00:00-05:00    0.271271\n",
       " 2024-11-15 00:00:00-05:00    0.281441\n",
       " 2024-11-18 00:00:00-05:00    0.280736\n",
       " Name: Close, Length: 3655, dtype: float64,\n",
       " 'XLF': Date\n",
       " 2010-05-13 00:00:00-04:00    0.638192\n",
       " 2010-05-14 00:00:00-04:00    0.646658\n",
       " 2010-05-17 00:00:00-04:00    0.646691\n",
       " 2010-05-18 00:00:00-04:00    0.649218\n",
       " 2010-05-19 00:00:00-04:00    0.650619\n",
       "                                ...   \n",
       " 2024-11-12 00:00:00-05:00    0.553035\n",
       " 2024-11-13 00:00:00-05:00    0.554474\n",
       " 2024-11-14 00:00:00-05:00    0.555076\n",
       " 2024-11-15 00:00:00-05:00    0.558105\n",
       " 2024-11-18 00:00:00-05:00    0.557782\n",
       " Name: Close, Length: 3655, dtype: float64,\n",
       " 'XLI': Date\n",
       " 2010-05-13 00:00:00-04:00    0.775930\n",
       " 2010-05-14 00:00:00-04:00    0.777203\n",
       " 2010-05-17 00:00:00-04:00    0.776494\n",
       " 2010-05-18 00:00:00-04:00    0.781047\n",
       " 2010-05-19 00:00:00-04:00    0.784869\n",
       "                                ...   \n",
       " 2024-11-12 00:00:00-05:00    0.757475\n",
       " 2024-11-13 00:00:00-05:00    0.760682\n",
       " 2024-11-14 00:00:00-05:00    0.744475\n",
       " 2024-11-15 00:00:00-05:00    0.771217\n",
       " 2024-11-18 00:00:00-05:00    0.768557\n",
       " Name: Close, Length: 3655, dtype: float64,\n",
       " 'XLK': Date\n",
       " 2010-05-13 00:00:00-04:00    0.835805\n",
       " 2010-05-14 00:00:00-04:00    0.839394\n",
       " 2010-05-17 00:00:00-04:00    0.845759\n",
       " 2010-05-18 00:00:00-04:00    0.848809\n",
       " 2010-05-19 00:00:00-04:00    0.849634\n",
       "                                ...   \n",
       " 2024-11-12 00:00:00-05:00    0.498187\n",
       " 2024-11-13 00:00:00-05:00    0.498015\n",
       " 2024-11-14 00:00:00-05:00    0.497695\n",
       " 2024-11-15 00:00:00-05:00    0.501630\n",
       " 2024-11-18 00:00:00-05:00    0.501459\n",
       " Name: Close, Length: 3655, dtype: float64,\n",
       " 'XLP': Date\n",
       " 2010-05-13 00:00:00-04:00    1.358826\n",
       " 2010-05-14 00:00:00-04:00    1.369552\n",
       " 2010-05-17 00:00:00-04:00    1.340235\n",
       " 2010-05-18 00:00:00-04:00    1.347613\n",
       " 2010-05-19 00:00:00-04:00    1.355385\n",
       "                                ...   \n",
       " 2024-11-12 00:00:00-05:00    0.320721\n",
       " 2024-11-13 00:00:00-05:00    0.320937\n",
       " 2024-11-14 00:00:00-05:00    0.317693\n",
       " 2024-11-15 00:00:00-05:00    0.335917\n",
       " 2024-11-18 00:00:00-05:00    0.333451\n",
       " Name: Close, Length: 3655, dtype: float64,\n",
       " 'XLU': Date\n",
       " 2010-05-13 00:00:00-04:00    0.968005\n",
       " 2010-05-14 00:00:00-04:00    0.998822\n",
       " 2010-05-17 00:00:00-04:00    1.002832\n",
       " 2010-05-18 00:00:00-04:00    1.012268\n",
       " 2010-05-19 00:00:00-04:00    1.007369\n",
       "                                ...   \n",
       " 2024-11-12 00:00:00-05:00    0.132236\n",
       " 2024-11-13 00:00:00-05:00    0.132227\n",
       " 2024-11-14 00:00:00-05:00    0.128555\n",
       " 2024-11-15 00:00:00-05:00    0.126993\n",
       " 2024-11-18 00:00:00-05:00    0.125733\n",
       " Name: Close, Length: 3655, dtype: float64,\n",
       " 'XLY': Date\n",
       " 2010-05-13 00:00:00-04:00    0.815303\n",
       " 2010-05-14 00:00:00-04:00    0.819823\n",
       " 2010-05-17 00:00:00-04:00    0.817690\n",
       " 2010-05-18 00:00:00-04:00    0.815297\n",
       " 2010-05-19 00:00:00-04:00    0.815590\n",
       "                                ...   \n",
       " 2024-11-12 00:00:00-05:00    0.582262\n",
       " 2024-11-13 00:00:00-05:00    0.580625\n",
       " 2024-11-14 00:00:00-05:00    0.577050\n",
       " 2024-11-15 00:00:00-05:00    0.580479\n",
       " 2024-11-18 00:00:00-05:00    0.580719\n",
       " Name: Close, Length: 3655, dtype: float64}"
      ]
     },
     "execution_count": 7,
     "metadata": {},
     "output_type": "execute_result"
    }
   ],
   "source": [
    "print(\"90 day rolling betas:\")\n",
    "rolling_betas_90_day"
   ]
  },
  {
   "cell_type": "markdown",
   "metadata": {},
   "source": [
    "<div class=\"alert alert-block alert-success\">\n",
    "<b>Response:</b> With the exception of XLB and SPY, all of the betas decrease over time, which makes sense since the correlation and beta are proportionate to each other. Notice that the XLU betas are greater than 1 around 2010, and are around .2, meaning a drastic reduction in risk. Notice how the last betas in the rolling betas are significantly less than their corresponding total historical beta\n",
    "</div>"
   ]
  },
  {
   "cell_type": "code",
   "execution_count": 8,
   "metadata": {},
   "outputs": [
    {
     "data": {
      "text/plain": [
       "{'SPY': Date\n",
       " 2010-05-13 00:00:00-04:00    1.0\n",
       " 2010-05-14 00:00:00-04:00    1.0\n",
       " 2010-05-17 00:00:00-04:00    1.0\n",
       " 2010-05-18 00:00:00-04:00    1.0\n",
       " 2010-05-19 00:00:00-04:00    1.0\n",
       "                             ... \n",
       " 2024-11-12 00:00:00-05:00    1.0\n",
       " 2024-11-13 00:00:00-05:00    1.0\n",
       " 2024-11-14 00:00:00-05:00    1.0\n",
       " 2024-11-15 00:00:00-05:00    1.0\n",
       " 2024-11-18 00:00:00-05:00    1.0\n",
       " Name: Close, Length: 3655, dtype: float64,\n",
       " 'XLB': Date\n",
       " 2010-05-13 00:00:00-04:00    0.626109\n",
       " 2010-05-14 00:00:00-04:00    0.629837\n",
       " 2010-05-17 00:00:00-04:00    0.638611\n",
       " 2010-05-18 00:00:00-04:00    0.643753\n",
       " 2010-05-19 00:00:00-04:00    0.647773\n",
       "                                ...   \n",
       " 2024-11-12 00:00:00-05:00    0.724403\n",
       " 2024-11-13 00:00:00-05:00    0.735438\n",
       " 2024-11-14 00:00:00-05:00    0.736744\n",
       " 2024-11-15 00:00:00-05:00    0.778768\n",
       " 2024-11-18 00:00:00-05:00    0.778350\n",
       " Name: Close, Length: 3655, dtype: float64,\n",
       " 'XLE': Date\n",
       " 2010-05-13 00:00:00-04:00    0.708560\n",
       " 2010-05-14 00:00:00-04:00    0.715169\n",
       " 2010-05-17 00:00:00-04:00    0.717063\n",
       " 2010-05-18 00:00:00-04:00    0.720643\n",
       " 2010-05-19 00:00:00-04:00    0.720224\n",
       "                                ...   \n",
       " 2024-11-12 00:00:00-05:00    0.275349\n",
       " 2024-11-13 00:00:00-05:00    0.276050\n",
       " 2024-11-14 00:00:00-05:00    0.271271\n",
       " 2024-11-15 00:00:00-05:00    0.281441\n",
       " 2024-11-18 00:00:00-05:00    0.280736\n",
       " Name: Close, Length: 3655, dtype: float64,\n",
       " 'XLF': Date\n",
       " 2010-05-13 00:00:00-04:00    0.638192\n",
       " 2010-05-14 00:00:00-04:00    0.646658\n",
       " 2010-05-17 00:00:00-04:00    0.646691\n",
       " 2010-05-18 00:00:00-04:00    0.649218\n",
       " 2010-05-19 00:00:00-04:00    0.650619\n",
       "                                ...   \n",
       " 2024-11-12 00:00:00-05:00    0.553035\n",
       " 2024-11-13 00:00:00-05:00    0.554474\n",
       " 2024-11-14 00:00:00-05:00    0.555076\n",
       " 2024-11-15 00:00:00-05:00    0.558105\n",
       " 2024-11-18 00:00:00-05:00    0.557782\n",
       " Name: Close, Length: 3655, dtype: float64,\n",
       " 'XLI': Date\n",
       " 2010-05-13 00:00:00-04:00    0.775930\n",
       " 2010-05-14 00:00:00-04:00    0.777203\n",
       " 2010-05-17 00:00:00-04:00    0.776494\n",
       " 2010-05-18 00:00:00-04:00    0.781047\n",
       " 2010-05-19 00:00:00-04:00    0.784869\n",
       "                                ...   \n",
       " 2024-11-12 00:00:00-05:00    0.757475\n",
       " 2024-11-13 00:00:00-05:00    0.760682\n",
       " 2024-11-14 00:00:00-05:00    0.744475\n",
       " 2024-11-15 00:00:00-05:00    0.771217\n",
       " 2024-11-18 00:00:00-05:00    0.768557\n",
       " Name: Close, Length: 3655, dtype: float64,\n",
       " 'XLK': Date\n",
       " 2010-05-13 00:00:00-04:00    0.835805\n",
       " 2010-05-14 00:00:00-04:00    0.839394\n",
       " 2010-05-17 00:00:00-04:00    0.845759\n",
       " 2010-05-18 00:00:00-04:00    0.848809\n",
       " 2010-05-19 00:00:00-04:00    0.849634\n",
       "                                ...   \n",
       " 2024-11-12 00:00:00-05:00    0.498187\n",
       " 2024-11-13 00:00:00-05:00    0.498015\n",
       " 2024-11-14 00:00:00-05:00    0.497695\n",
       " 2024-11-15 00:00:00-05:00    0.501630\n",
       " 2024-11-18 00:00:00-05:00    0.501459\n",
       " Name: Close, Length: 3655, dtype: float64,\n",
       " 'XLP': Date\n",
       " 2010-05-13 00:00:00-04:00    1.358826\n",
       " 2010-05-14 00:00:00-04:00    1.369552\n",
       " 2010-05-17 00:00:00-04:00    1.340235\n",
       " 2010-05-18 00:00:00-04:00    1.347613\n",
       " 2010-05-19 00:00:00-04:00    1.355385\n",
       "                                ...   \n",
       " 2024-11-12 00:00:00-05:00    0.320721\n",
       " 2024-11-13 00:00:00-05:00    0.320937\n",
       " 2024-11-14 00:00:00-05:00    0.317693\n",
       " 2024-11-15 00:00:00-05:00    0.335917\n",
       " 2024-11-18 00:00:00-05:00    0.333451\n",
       " Name: Close, Length: 3655, dtype: float64,\n",
       " 'XLU': Date\n",
       " 2010-05-13 00:00:00-04:00    0.968005\n",
       " 2010-05-14 00:00:00-04:00    0.998822\n",
       " 2010-05-17 00:00:00-04:00    1.002832\n",
       " 2010-05-18 00:00:00-04:00    1.012268\n",
       " 2010-05-19 00:00:00-04:00    1.007369\n",
       "                                ...   \n",
       " 2024-11-12 00:00:00-05:00    0.132236\n",
       " 2024-11-13 00:00:00-05:00    0.132227\n",
       " 2024-11-14 00:00:00-05:00    0.128555\n",
       " 2024-11-15 00:00:00-05:00    0.126993\n",
       " 2024-11-18 00:00:00-05:00    0.125733\n",
       " Name: Close, Length: 3655, dtype: float64,\n",
       " 'XLY': Date\n",
       " 2010-05-13 00:00:00-04:00    0.815303\n",
       " 2010-05-14 00:00:00-04:00    0.819823\n",
       " 2010-05-17 00:00:00-04:00    0.817690\n",
       " 2010-05-18 00:00:00-04:00    0.815297\n",
       " 2010-05-19 00:00:00-04:00    0.815590\n",
       "                                ...   \n",
       " 2024-11-12 00:00:00-05:00    0.582262\n",
       " 2024-11-13 00:00:00-05:00    0.580625\n",
       " 2024-11-14 00:00:00-05:00    0.577050\n",
       " 2024-11-15 00:00:00-05:00    0.580479\n",
       " 2024-11-18 00:00:00-05:00    0.580719\n",
       " Name: Close, Length: 3655, dtype: float64}"
      ]
     },
     "execution_count": 8,
     "metadata": {},
     "output_type": "execute_result"
    }
   ],
   "source": [
    "rolling_betas_90_day"
   ]
  },
  {
   "cell_type": "markdown",
   "metadata": {},
   "source": [
    "# 2. Option Pricing via Simulation"
   ]
  },
  {
   "cell_type": "markdown",
   "metadata": {},
   "source": [
    "## Recall that the dynamics of the Black-Scholes model can be written as:\n",
    "## $\\begin{aligned}dS_t &= rS_t dt + σS_t dW_t\\end{aligned}$\n",
    "## And that each Brownian motion increment $dW_t$ is normally distributed with mean zero and\n",
    "## variance $\\Delta t$. Assume that $r = 0$, $S_0 = 100$ and $\\sigma = 0.25.$"
   ]
  },
  {
   "cell_type": "markdown",
   "metadata": {},
   "source": [
    "### a. Generate a series of normally distributed random numbers and use these to generate\n",
    "### simulated paths for the underlying asset. What is the mean and variance of the terminal\n",
    "### value of these paths? Does it appear to be consistent with the underlying dynamics?"
   ]
  },
  {
   "cell_type": "code",
   "execution_count": 9,
   "metadata": {},
   "outputs": [],
   "source": [
    "# Copying the code from the a7task1 from the python refresher course:\n",
    "\n",
    "class MCStockSimulator:\n",
    "    \"\"\"Monte Carlo Simulator Class\"\"\"\n",
    "    def __init__(self, s, t, r, sigma, nper_per_year):\n",
    "        \"\"\"s (the current stock price in dollars), \n",
    "        t (the option maturity time in years), \n",
    "        r (the annualized rate of return on this stock),\n",
    "        sigma (the annualized standard deviation of returns), \n",
    "        nper_per_year (the number of discrete time periods per year)\"\"\" \n",
    "        \n",
    "        self.s = s\n",
    "        self.t = t\n",
    "        self.r = r\n",
    "        self.sigma = sigma\n",
    "        self.nper_per_year = nper_per_year\n",
    "        \n",
    "    def __repr__(self):\n",
    "        return f\"\"\"Stock Simulator (s=${self.s:.2f}, t={self.t:.2f} (years), r={self.r:.2f}, sigma={self.sigma:.2f}, nper_per_year={self.nper_per_year}\"\"\"\n",
    "        \n",
    "    # Problem 2\n",
    "    def generate_simulated_stock_returns(self):\n",
    "        \"\"\"generate and return a np.array (numpy array) containing a sequence \n",
    "        of simulated stock returns over the time period t\"\"\"\n",
    "        \n",
    "        dt = 1/self.nper_per_year\n",
    "        sigma = self.sigma\n",
    "        mu = self.r\n",
    "        Z = np.random.normal(size = int(self.t*self.nper_per_year))\n",
    "        \n",
    "        returns = (mu - sigma**2 / 2)*dt+ Z * sigma * np.sqrt(dt)\n",
    "        \n",
    "        return returns\n",
    "        \n",
    "    def generate_simulated_stock_values(self):\n",
    "        \"\"\"generates and returns a np.array (numpy array) containing a sequence \n",
    "        of stock values, corresponding to a random sequence of stock return.\"\"\"\n",
    "        \n",
    "        S=[self.s]\n",
    "        r = self.generate_simulated_stock_returns()\n",
    "        for i in range(len(r)):\n",
    "            S += [S[i]*np.exp(r[i])]\n",
    "        \n",
    "        return np.array(S)\n",
    "    \n",
    "    def plot_simulated_stock_values(self, num_trials = 1):\n",
    "        \"\"\"generates a plot of of num_trials series of simulated stock returns. \n",
    "        num_trials is an optional parameter; if it is not supplied, the default\n",
    "        value of 1 will be used\"\"\"\n",
    "        \n",
    "        t = np.linspace(0,self.t, self.t* self.nper_per_year)\n",
    "        \n",
    "                \n",
    "        if num_trials == 1:\n",
    "            plt.title(f\"{num_trials} simulated trial\")\n",
    "        else:\n",
    "            plt.title(f\"{num_trials} simulated trials\")\n",
    "            \n",
    "        plt.xlabel(\"years\")\n",
    "        plt.ylabel(\"$ value\")\n",
    "        \n",
    "        for _ in range(num_trials):\n",
    "            S = self.generate_simulated_stock_values()[:-1]\n",
    "            plt.plot(t, S)\n",
    "        \n",
    "        plt.show()\n",
    "        plt.clf()"
   ]
  },
  {
   "cell_type": "code",
   "execution_count": 10,
   "metadata": {},
   "outputs": [
    {
     "name": "stdout",
     "output_type": "stream",
     "text": [
      "Mean : 109.6511369804889, Variance: 6718.815604482934\n"
     ]
    }
   ],
   "source": [
    "#Can change t and nper_per_year as deemed fit\n",
    "\n",
    "num_trials = 10\n",
    "t= 10\n",
    "r = 0\n",
    "\n",
    "terminal_values = []\n",
    "for _ in range(num_trials):\n",
    "    terminal_values += [MCStockSimulator(s = 100, t = t, r = r, sigma = .25, nper_per_year=1).generate_simulated_stock_values()[-1]]\n",
    "\n",
    "terminal_values = pd.Series(terminal_values)\n",
    "sample_mean = terminal_values.mean()\n",
    "sample_variance = terminal_values.var()\n",
    "\n",
    "print(f\"Mean : {sample_mean}, Variance: {sample_variance}\")"
   ]
  },
  {
   "cell_type": "markdown",
   "metadata": {},
   "source": [
    "Properties of Geometric Brownian Motion\n",
    "\n",
    "$E[S_t] = S_0 e^{\\mu t} = S_0\\\\ Var[S_t] =   S_0^2 e^{2\\mu t} \\left( e^{\\sigma^2t} - 1\\right) = S_0^2 \\left( e^{10\\sigma^2 } -1\\right)$ "
   ]
  },
  {
   "cell_type": "code",
   "execution_count": 11,
   "metadata": {},
   "outputs": [
    {
     "name": "stdout",
     "output_type": "stream",
     "text": [
      "The expected value of S_t = 100 \n",
      " The variance of S_t = 8682.459574322223\n"
     ]
    }
   ],
   "source": [
    "print(f\"The expected value of S_t = {100} \\n The variance of S_t = {100**2 * (np.exp(10*.25**2) - 1)}\")"
   ]
  },
  {
   "cell_type": "markdown",
   "metadata": {},
   "source": [
    "<div class=\"alert alert-block alert-success\">\n",
    "<b>Response:</b> The means somewhat line up with the dynamics, since the variance is fairly large. However, the variances are signficantly different\n",
    "</div>"
   ]
  },
  {
   "cell_type": "markdown",
   "metadata": {},
   "source": [
    "## b. Calculate the payoff of a European put option with strike 100 along all simulated\n",
    "## paths. Make a histogram of the payoffs for the European option. What is the mean\n",
    "## and standard deviation of the payoffs?"
   ]
  },
  {
   "cell_type": "code",
   "execution_count": 12,
   "metadata": {},
   "outputs": [
    {
     "name": "stdout",
     "output_type": "stream",
     "text": [
      "0     0.000000\n",
      "1     0.000000\n",
      "2    64.539835\n",
      "3    77.421185\n",
      "4    14.155045\n",
      "5    23.258779\n",
      "6    79.767744\n",
      "7    25.342432\n",
      "8     0.000000\n",
      "9     0.000000\n",
      "dtype: float64\n",
      "Mean of payoffs  = 28.44850202494394 \n",
      " Standard deviation of payoffs = 33.01973391027613\n"
     ]
    },
    {
     "data": {
      "image/png": "[encoded data removed]",
      "text/plain": [
       "<Figure size 640x480 with 1 Axes>"
      ]
     },
     "metadata": {},
     "output_type": "display_data"
    }
   ],
   "source": [
    "payoff = (100 - terminal_values).apply(lambda x : max(x, 0))\n",
    "print(payoff)\n",
    "payoff.hist()\n",
    "print(f\"Mean of payoffs  = {payoff.mean()} \\n Standard deviation of payoffs = {payoff.std()}\")"
   ]
  },
  {
   "cell_type": "markdown",
   "metadata": {},
   "source": [
    "## c. Calculate a simulation approximation to the price of a European put option by taking\n",
    "## the average discounted payoff across all paths."
   ]
  },
  {
   "cell_type": "code",
   "execution_count": 13,
   "metadata": {},
   "outputs": [
    {
     "data": {
      "text/plain": [
       "28.44850202494394"
      ]
     },
     "execution_count": 13,
     "metadata": {},
     "output_type": "execute_result"
    }
   ],
   "source": [
    "payoff_mean_discounted = payoff.mean()*np.exp(-r*t)\n",
    "payoff_mean_discounted"
   ]
  },
  {
   "cell_type": "markdown",
   "metadata": {},
   "source": [
    "<div class=\"alert alert-block alert-success\">\n",
    "<b>Response:</b> Note that r = 0, meaning there is actually no discount\n",
    "</div>"
   ]
  },
  {
   "cell_type": "markdown",
   "metadata": {},
   "source": [
    "## d. Compare the price of the European put option obtained via simulation to the price\n",
    "## you obtain using the Black-Scholes formula. Comment on any difference between the\n",
    "## two prices."
   ]
  },
  {
   "cell_type": "code",
   "execution_count": 14,
   "metadata": {},
   "outputs": [
    {
     "data": {
      "text/plain": [
       "28.945146508959056"
      ]
     },
     "execution_count": 14,
     "metadata": {},
     "output_type": "execute_result"
    }
   ],
   "source": [
    "def calculcate_black_scholes_put(S, r, T, sigma, K):\n",
    "    d_1 = 1/(sigma * np.sqrt(T)) *(np.log(S/K) + (r+ sigma**2/2))\n",
    "    d_2 = d_1 - sigma * np.sqrt(T)\n",
    "\n",
    "    return sci.stats.norm.cdf(-d_2) * K *np.exp(-r*T) - sci.stats.norm.cdf(-d_1)*S\n",
    "\n",
    "calculcate_black_scholes_put(S= 100, r= 0, T=t, sigma = .25, K = 100)"
   ]
  },
  {
   "cell_type": "markdown",
   "metadata": {},
   "source": [
    "<div class=\"alert alert-block alert-success\">\n",
    "<b>Response:</b> This is not the best estimation given our black scholes model produces a different output that is not necessarily comparable. \n",
    "</div>"
   ]
  }
 ],
 "metadata": {
  "kernelspec": {
   "display_name": "base",
   "language": "python",
   "name": "python3"
  },
  "language_info": {
   "codemirror_mode": {
    "name": "ipython",
    "version": 3
   },
   "file_extension": ".py",
   "mimetype": "text/x-python",
   "name": "python",
   "nbconvert_exporter": "python",
   "pygments_lexer": "ipython3",
   "version": "3.12.4"
  }
 },
 "nbformat": 4,
 "nbformat_minor": 4
}
